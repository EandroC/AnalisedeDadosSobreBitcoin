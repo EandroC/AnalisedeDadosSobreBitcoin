{
 "cells": [
  {
   "cell_type": "code",
   "execution_count": 1,
   "id": "1344a403",
   "metadata": {},
   "outputs": [],
   "source": [
    "import pandas as pd"
   ]
  },
  {
   "cell_type": "code",
   "execution_count": 3,
   "id": "c130d7f9",
   "metadata": {},
   "outputs": [
    {
     "data": {
      "text/html": [
       "<div>\n",
       "<style scoped>\n",
       "    .dataframe tbody tr th:only-of-type {\n",
       "        vertical-align: middle;\n",
       "    }\n",
       "\n",
       "    .dataframe tbody tr th {\n",
       "        vertical-align: top;\n",
       "    }\n",
       "\n",
       "    .dataframe thead th {\n",
       "        text-align: right;\n",
       "    }\n",
       "</style>\n",
       "<table border=\"1\" class=\"dataframe\">\n",
       "  <thead>\n",
       "    <tr style=\"text-align: right;\">\n",
       "      <th></th>\n",
       "      <th>Start</th>\n",
       "      <th>End</th>\n",
       "      <th>Open</th>\n",
       "      <th>High</th>\n",
       "      <th>Low</th>\n",
       "      <th>Close</th>\n",
       "      <th>Volume</th>\n",
       "      <th>Market Cap</th>\n",
       "    </tr>\n",
       "  </thead>\n",
       "  <tbody>\n",
       "    <tr>\n",
       "      <th>0</th>\n",
       "      <td>2024-04-24</td>\n",
       "      <td>2024-04-25</td>\n",
       "      <td>66553.54</td>\n",
       "      <td>67070.40</td>\n",
       "      <td>63742.73</td>\n",
       "      <td>64291.07</td>\n",
       "      <td>1.384736e+11</td>\n",
       "      <td>1.294489e+12</td>\n",
       "    </tr>\n",
       "    <tr>\n",
       "      <th>1</th>\n",
       "      <td>2024-04-23</td>\n",
       "      <td>2024-04-24</td>\n",
       "      <td>66761.02</td>\n",
       "      <td>67174.02</td>\n",
       "      <td>65884.15</td>\n",
       "      <td>66386.61</td>\n",
       "      <td>1.408621e+11</td>\n",
       "      <td>1.308576e+12</td>\n",
       "    </tr>\n",
       "    <tr>\n",
       "      <th>2</th>\n",
       "      <td>2024-04-22</td>\n",
       "      <td>2024-04-23</td>\n",
       "      <td>64952.02</td>\n",
       "      <td>67180.03</td>\n",
       "      <td>64598.00</td>\n",
       "      <td>66818.89</td>\n",
       "      <td>1.400725e+11</td>\n",
       "      <td>1.299703e+12</td>\n",
       "    </tr>\n",
       "    <tr>\n",
       "      <th>3</th>\n",
       "      <td>2024-04-21</td>\n",
       "      <td>2024-04-22</td>\n",
       "      <td>64875.75</td>\n",
       "      <td>65638.74</td>\n",
       "      <td>64302.47</td>\n",
       "      <td>64896.87</td>\n",
       "      <td>1.326574e+11</td>\n",
       "      <td>1.278730e+12</td>\n",
       "    </tr>\n",
       "    <tr>\n",
       "      <th>4</th>\n",
       "      <td>2024-04-20</td>\n",
       "      <td>2024-04-21</td>\n",
       "      <td>63824.06</td>\n",
       "      <td>65351.33</td>\n",
       "      <td>63321.19</td>\n",
       "      <td>64857.99</td>\n",
       "      <td>1.537410e+11</td>\n",
       "      <td>1.263725e+12</td>\n",
       "    </tr>\n",
       "  </tbody>\n",
       "</table>\n",
       "</div>"
      ],
      "text/plain": [
       "        Start         End      Open      High       Low     Close  \\\n",
       "0  2024-04-24  2024-04-25  66553.54  67070.40  63742.73  64291.07   \n",
       "1  2024-04-23  2024-04-24  66761.02  67174.02  65884.15  66386.61   \n",
       "2  2024-04-22  2024-04-23  64952.02  67180.03  64598.00  66818.89   \n",
       "3  2024-04-21  2024-04-22  64875.75  65638.74  64302.47  64896.87   \n",
       "4  2024-04-20  2024-04-21  63824.06  65351.33  63321.19  64857.99   \n",
       "\n",
       "         Volume    Market Cap  \n",
       "0  1.384736e+11  1.294489e+12  \n",
       "1  1.408621e+11  1.308576e+12  \n",
       "2  1.400725e+11  1.299703e+12  \n",
       "3  1.326574e+11  1.278730e+12  \n",
       "4  1.537410e+11  1.263725e+12  "
      ]
     },
     "execution_count": 3,
     "metadata": {},
     "output_type": "execute_result"
    }
   ],
   "source": [
    "dados = pd.read_csv(\"bitcoin_2010-07-27_2024-04-25.csv\", sep=\",\")\n",
    "\n",
    "dados.head()"
   ]
  },
  {
   "cell_type": "code",
   "execution_count": null,
   "id": "74240f85",
   "metadata": {},
   "outputs": [],
   "source": []
  }
 ],
 "metadata": {
  "kernelspec": {
   "display_name": "Python 3 (ipykernel)",
   "language": "python",
   "name": "python3"
  },
  "language_info": {
   "codemirror_mode": {
    "name": "ipython",
    "version": 3
   },
   "file_extension": ".py",
   "mimetype": "text/x-python",
   "name": "python",
   "nbconvert_exporter": "python",
   "pygments_lexer": "ipython3",
   "version": "3.11.5"
  }
 },
 "nbformat": 4,
 "nbformat_minor": 5
}
