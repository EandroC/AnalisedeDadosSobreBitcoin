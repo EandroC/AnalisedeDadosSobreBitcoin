{
 "cells": [
  {
   "cell_type": "code",
   "execution_count": null,
   "id": "6ff627b1",
   "metadata": {},
   "outputs": [],
   "source": [
    "import pandas as pd\n",
    "import matplotlib.pyplot as plt"
   ]
  },
  {
   "cell_type": "markdown",
   "id": "a4dfaa1e",
   "metadata": {},
   "source": [
    "- Start\t: A data em que os dados começam a ser registrados.\n",
    "- End: A data em que os dados terminam.\n",
    "- Open: O preço de abertura do Bitcoin no início do dia.\n",
    "- High: O preço mais alto atingido pelo Bitcoin durante o dia.\n",
    "- Baixo: O preço mais baixo atingido pelo Bitcoin durante o dia.\n",
    "- Low: O preço de fechamento no final do dia.\n",
    "- Close: A quantidade total de Bitcoin negociada durante o dia.\n",
    "- Market Cap: O valor total de mercado do Bitcoin no final do dia."
   ]
  },
  {
   "cell_type": "code",
   "execution_count": null,
   "id": "383e07e3",
   "metadata": {},
   "outputs": [],
   "source": [
    "cotacao = pd.read_csv(\"bitcoin_2010-07-27_2024-04-25.csv\", sep=\",\")\n",
    "\n",
    "cotacao.head()"
   ]
  },
  {
   "cell_type": "code",
   "execution_count": null,
   "id": "7182b6e7",
   "metadata": {},
   "outputs": [],
   "source": [
    "cotacao.shape"
   ]
  },
  {
   "cell_type": "code",
   "execution_count": null,
   "id": "14bc462f",
   "metadata": {},
   "outputs": [],
   "source": [
    "cotacao.dtypes"
   ]
  },
  {
   "cell_type": "markdown",
   "id": "8de7b3cc",
   "metadata": {},
   "source": [
    "Transformando as colunas 'Start' e 'End' em colunas do tipo datatime"
   ]
  },
  {
   "cell_type": "code",
   "execution_count": null,
   "id": "5cbd8baa",
   "metadata": {},
   "outputs": [],
   "source": [
    "cotacao['Start'] = pd.to_datetime(cotacao['Start'])\n",
    "cotacao['End'] = pd.to_datetime(cotacao['End'])"
   ]
  },
  {
   "cell_type": "code",
   "execution_count": null,
   "id": "e6c1c1d8-e1da-4fb4-b534-1dbeed578b8a",
   "metadata": {},
   "outputs": [],
   "source": [
    "cotacao.dtypes"
   ]
  },
  {
   "cell_type": "markdown",
   "id": "527aca63",
   "metadata": {},
   "source": [
    "https://g1.globo.com/economia/noticia/2022/05/10/bitcoin-em-queda-entenda-a-desvalorizacao-das-criptomoedas.ghtml"
   ]
  },
  {
   "cell_type": "markdown",
   "id": "dfc2dd04",
   "metadata": {},
   "source": [
    "Pegando os dados a partir de 2021, ano onde aconteceu a maior alta (novembro) até o momento da noticia."
   ]
  },
  {
   "cell_type": "code",
   "execution_count": null,
   "id": "7ab1b7b5",
   "metadata": {},
   "outputs": [],
   "source": [
    "dados = cotacao.loc[cotacao['Start'].dt.year >= 2021]\n",
    "dados.tail()"
   ]
  },
  {
   "cell_type": "code",
   "execution_count": null,
   "id": "8777f646",
   "metadata": {},
   "outputs": [],
   "source": [
    "dados.shape"
   ]
  },
  {
   "cell_type": "markdown",
   "id": "fd2d7e90",
   "metadata": {},
   "source": [
    "O cálculo de 'Liquid Movement' resultará na diferença entre o preço de fechamento e o preço de abertura. Essa diferença representa o movimento líquido do preço durante o período considerado. Se o resultado for positivo, indica que o preço de fechamento foi maior que o preço de abertura, sugerindo um aumento no preço durante o período. Se for negativo, indica que o preço de fechamento foi menor que o preço de abertura, sugerindo uma queda no preço durante o período.\n",
    "\n",
    "Portanto, na coluna 'Variation Perc', essa diferença será dividida pelo preço de abertura e multiplicada por 100 para expressar a mudança percentual em relação ao preço de abertura. Isso nos dá uma medida da variação percentual do preço durante o período considerado."
   ]
  },
  {
   "cell_type": "code",
   "execution_count": null,
   "id": "fd640651",
   "metadata": {},
   "outputs": [],
   "source": [
    "#dados.loc[:, 'Liquid Movement'] = dados['Close'] - dados['Open']\n",
    "#dados.loc[:, 'Variation'] = dados['Liquid Movement'] / dados['Open']\n",
    "#dados.loc[:, 'Variation Perc'] = round(dados['Variation'] * 100, 2)\n",
    "\n",
    "#dados.head()"
   ]
  },
  {
   "cell_type": "markdown",
   "id": "a2e15486-efa3-4216-83e4-7db95dda7df7",
   "metadata": {},
   "source": [
    "## Variação do preço de fechamento do Bitcoin ao longo do tempo"
   ]
  },
  {
   "cell_type": "code",
   "execution_count": null,
   "id": "360fcbcc-2da8-4e2b-ad8d-b0fd5f09b97f",
   "metadata": {},
   "outputs": [],
   "source": [
    "dados.set_index('Start', inplace=True)\n",
    "\n",
    "plt.figure(figsize=(10,6))\n",
    "plt.plot(dados['Close'])\n",
    "plt.title('Variação do Preço de Fechamento do Bitcoin ao Longo do Tempo')\n",
    "plt.xlabel('Data')\n",
    "plt.ylabel('Preço de Fechamento')\n",
    "plt.show()"
   ]
  },
  {
   "cell_type": "markdown",
   "id": "3d53ed59-e12c-43f9-8aae-0d4c8108b01f",
   "metadata": {},
   "source": [
    "## Volume médio diário de negociações de Bitcoin por ano"
   ]
  },
  {
   "cell_type": "code",
   "execution_count": null,
   "id": "58679e4b-0ffc-4b8d-afee-9c5740ba263a",
   "metadata": {},
   "outputs": [],
   "source": [
    "dados = cotacao.loc[cotacao['Start'].dt.year >= 2021].copy()\n",
    "\n",
    "dados.loc[:, 'Year'] = dados['Start'].dt.year\n",
    "media_diaria_anual = dados.groupby('Year')['Volume'].mean()\n",
    "\n",
    "plt.figure(figsize=(10, 6))\n",
    "media_diaria_anual.plot(kind='bar')\n",
    "plt.title('Volume Médio Diário de Negociações de Bitcoin por Ano')\n",
    "plt.xlabel('Ano')\n",
    "plt.ylabel('Volume Médio Diário')\n",
    "plt.show()"
   ]
  },
  {
   "cell_type": "markdown",
   "id": "dc341d5d-4c1f-4ed1-8a57-c77282b07187",
   "metadata": {},
   "source": [
    "## Dias com maior variação percentual no preço do Bitcoin"
   ]
  },
  {
   "cell_type": "code",
   "execution_count": null,
   "id": "2048ff8a-775a-4f5f-a93d-d5f7a611e4b5",
   "metadata": {},
   "outputs": [],
   "source": [
    "dados['pct_change'] = dados['Close'].pct_change() * 100\n",
    "top_variacoes = dados.nlargest(10, 'pct_change')\n",
    "\n",
    "top_variacoes [['Start', 'pct_change']]"
   ]
  },
  {
   "cell_type": "markdown",
   "id": "0e7c73ad-26ca-4f2d-9884-3f548a0fd031",
   "metadata": {},
   "source": [
    "## Tendência sazonal nos preços do Bitcoin"
   ]
  },
  {
   "cell_type": "markdown",
   "id": "219dfbaf-59c4-4451-8fc7-c28c7b7d9716",
   "metadata": {},
   "source": [
    "OBS: Fazer por ano"
   ]
  },
  {
   "cell_type": "code",
   "execution_count": null,
   "id": "773c815c-46d3-4f39-adf9-890187c2dc8d",
   "metadata": {},
   "outputs": [],
   "source": [
    "dados['Mes'] = dados['Start'].dt.month\n",
    "monthly_trends = dados.groupby('Mes')[['Open', 'Close', 'High', 'Low']].mean()\n",
    "\n",
    "monthly_trends.plot(figsize=(10,6))\n",
    "plt.title('Tendências Sazonais dos Preços do Bitcoin')\n",
    "plt.xlabel('Mês')\n",
    "plt.ylabel('Preço Médio')\n",
    "plt.legend(['Preço de Abertura', 'Preço de Fechamento', 'Preço Máximo', 'Preço Mínimo'])\n",
    "plt.show()"
   ]
  },
  {
   "cell_type": "markdown",
   "id": "5f9f4d43-2e29-40b0-a7ee-24c2d74e2d76",
   "metadata": {},
   "source": [
    "## Correlações"
   ]
  },
  {
   "cell_type": "code",
   "execution_count": null,
   "id": "eafde069-f4fc-44f8-a569-1a00574a16c2",
   "metadata": {},
   "outputs": [],
   "source": [
    "correlation = dados['Market Cap'].corr(dados['Volume'])\n",
    "print(f'Correlação entre valor de mercado e volume de negociações: {correlation}')\n",
    "\n",
    "plt.figure(figsize=(10,6))\n",
    "plt.scatter(dados['Volume'], dados['Market Cap'], alpha=0.5)\n",
    "plt.title('Correlação entre Valor de Mercado e Volume de Negociações')\n",
    "plt.xlabel('Volume de Negociações')\n",
    "plt.ylabel('Valor de Mercado')\n",
    "plt.show()"
   ]
  },
  {
   "cell_type": "code",
   "execution_count": null,
   "id": "86a8ac96-89ae-48b8-ae73-1847c7d620a0",
   "metadata": {},
   "outputs": [],
   "source": [
    "colunas = ['High', 'Low', 'Close', 'Volume', 'Market Cap']\n",
    "\n",
    "# Crie uma figura e um conjunto de eixos com 6 subtramas\n",
    "fig, axs = plt.subplots(5, 1, figsize=(10, 25))\n",
    "\n",
    "# Flatten the axs array to make it easier to iterate over\n",
    "axs = axs.flatten()\n",
    "\n",
    "# Iterar sobre cada coluna especificada e criar um histograma para ela\n",
    "for i, coluna in enumerate(colunas):\n",
    "    correlation = dados['Open'].corr(dados[coluna])\n",
    "    axs[i].scatter(dados[coluna], dados['Open'], alpha=0.5)\n",
    "    axs[i].set_title(f'Correlação de Open com {coluna}')\n",
    "    axs[i].set_xlabel(f'{coluna}')\n",
    "    axs[i].set_ylabel('Open')\n",
    "\n",
    "# Ajustar layout para evitar sobreposição\n",
    "plt.tight_layout()\n",
    "\n",
    "# Mostrar os histogramas\n",
    "plt.show()"
   ]
  },
  {
   "cell_type": "code",
   "execution_count": null,
   "id": "8da9d36a-674b-4f2c-9166-2fdf60a85de7",
   "metadata": {},
   "outputs": [],
   "source": [
    "colunas = ['Low', 'Close', 'Volume', 'Market Cap']\n",
    "\n",
    "# Crie uma figura e um conjunto de eixos com 6 subtramas\n",
    "fig, axs = plt.subplots(4, 1, figsize=(10, 25))\n",
    "\n",
    "# Flatten the axs array to make it easier to iterate over\n",
    "axs = axs.flatten()\n",
    "\n",
    "# Iterar sobre cada coluna especificada e criar um histograma para ela\n",
    "for i, coluna in enumerate(colunas):\n",
    "    correlation = dados['High'].corr(dados[coluna])\n",
    "    axs[i].scatter(dados[coluna], dados['High'], alpha=0.5)\n",
    "    axs[i].set_title(f'Correlação de High com {coluna}')\n",
    "    axs[i].set_xlabel(f'{coluna}')\n",
    "    axs[i].set_ylabel('High')\n",
    "\n",
    "# Ajustar layout para evitar sobreposição\n",
    "plt.tight_layout()\n",
    "\n",
    "# Mostrar os histogramas\n",
    "plt.show()"
   ]
  },
  {
   "cell_type": "code",
   "execution_count": null,
   "id": "1fdb8a4a-a744-40e1-bab5-fdc327bf866a",
   "metadata": {},
   "outputs": [],
   "source": [
    "colunas = ['Close', 'Volume', 'Market Cap']\n",
    "\n",
    "# Crie uma figura e um conjunto de eixos com 6 subtramas\n",
    "fig, axs = plt.subplots(3, 1, figsize=(10, 25))\n",
    "\n",
    "# Flatten the axs array to make it easier to iterate over\n",
    "axs = axs.flatten()\n",
    "\n",
    "# Iterar sobre cada coluna especificada e criar um histograma para ela\n",
    "for i, coluna in enumerate(colunas):\n",
    "    correlation = dados['Low'].corr(dados[coluna])\n",
    "    axs[i].scatter(dados[coluna], dados['Low'], alpha=0.5)\n",
    "    axs[i].set_title(f'Correlação de Low com {coluna}')\n",
    "    axs[i].set_xlabel(f'{coluna}')\n",
    "    axs[i].set_ylabel('Low')\n",
    "\n",
    "# Ajustar layout para evitar sobreposição\n",
    "plt.tight_layout()\n",
    "\n",
    "# Mostrar os histogramas\n",
    "plt.show()"
   ]
  },
  {
   "cell_type": "code",
   "execution_count": null,
   "id": "cf7d5e1e-02ab-4cb9-992b-5990783a50e1",
   "metadata": {},
   "outputs": [],
   "source": [
    "colunas = ['Volume', 'Market Cap']\n",
    "\n",
    "# Crie uma figura e um conjunto de eixos com 6 subtramas\n",
    "fig, axs = plt.subplots(2, 1, figsize=(10, 25))\n",
    "\n",
    "# Flatten the axs array to make it easier to iterate over\n",
    "axs = axs.flatten()\n",
    "\n",
    "# Iterar sobre cada coluna especificada e criar um histograma para ela\n",
    "for i, coluna in enumerate(colunas):\n",
    "    correlation = dados['Close'].corr(dados[coluna])\n",
    "    axs[i].scatter(dados[coluna], dados['Close'], alpha=0.5)\n",
    "    axs[i].set_title(f'Correlação de Close com {coluna}')\n",
    "    axs[i].set_xlabel(f'{coluna}')\n",
    "    axs[i].set_ylabel('Close')\n",
    "\n",
    "# Ajustar layout para evitar sobreposição\n",
    "plt.tight_layout()\n",
    "\n",
    "# Mostrar os histogramas\n",
    "plt.show()"
   ]
  },
  {
   "cell_type": "code",
   "execution_count": null,
   "id": "fdc0ff5a",
   "metadata": {},
   "outputs": [],
   "source": [
    "dados = dados.sort_values(by='Start')\n",
    "\n",
    "plt.figure(figsize=(10, 6))\n",
    "plt.plot(dados['Start'], dados['Market Cap'], linestyle='-')\n",
    "plt.title('Market Cap ao longo do Tempo')\n",
    "plt.xlabel('Data')\n",
    "plt.ylabel('Market Cap')\n",
    "plt.xticks(rotation=45)\n",
    "plt.grid(True)\n",
    "plt.tight_layout()\n",
    "plt.show()"
   ]
  },
  {
   "cell_type": "code",
   "execution_count": null,
   "id": "a4fb540f-de60-4bae-abce-40687972a1cd",
   "metadata": {},
   "outputs": [],
   "source": []
  },
  {
   "cell_type": "code",
   "execution_count": null,
   "id": "f925ac0d",
   "metadata": {},
   "outputs": [],
   "source": [
    "plt.hist(dados['Market Cap'], bins=10, color='skyblue', edgecolor='black')\n",
    "\n",
    "# Adicionar rótulos e título\n",
    "plt.xlabel('Market Cap')\n",
    "plt.ylabel('Frequência')\n",
    "plt.title('Histograma da Market Cap')\n",
    "\n",
    "# Mostrar o histograma\n",
    "plt.show()"
   ]
  },
  {
   "cell_type": "code",
   "execution_count": null,
   "id": "2506e297",
   "metadata": {},
   "outputs": [],
   "source": [
    "plt.hist(dados['Close'], bins=10, color='skyblue', edgecolor='black')\n",
    "\n",
    "# Adicionar rótulos e título\n",
    "plt.xlabel('Close')\n",
    "plt.ylabel('Frequência')\n",
    "plt.title('Histograma da Close')\n",
    "\n",
    "# Mostrar o histograma\n",
    "plt.show()"
   ]
  },
  {
   "cell_type": "code",
   "execution_count": null,
   "id": "5787e36e",
   "metadata": {},
   "outputs": [],
   "source": [
    "# dados = dados.sort_values(by='Start')\n",
    "\n",
    "# plt.figure(figsize=(9, 6))\n",
    "# plt.plot(dados['Start'], dados['Liquid Movement'], linestyle='-')\n",
    "# plt.title('Liquid Movement ao longo do Tempo')\n",
    "# plt.xlabel('Data')\n",
    "# plt.ylabel('Liquid Movement')\n",
    "# plt.xticks(rotation=45)\n",
    "# plt.grid(True)\n",
    "# plt.tight_layout()\n",
    "# plt.show()"
   ]
  },
  {
   "cell_type": "code",
   "execution_count": null,
   "id": "4f48ff6e",
   "metadata": {},
   "outputs": [],
   "source": [
    "# dados = dados.sort_values(by='Start')\n",
    "\n",
    "# plt.figure(figsize=(10, 6))\n",
    "# plt.plot(dados['Start'], dados['Variation Perc'], linestyle='-')\n",
    "# plt.title('Variation Perc ao longo do Tempo')\n",
    "# plt.xlabel('Data')\n",
    "# plt.ylabel('Variation Perc')\n",
    "# plt.xticks(rotation=45)\n",
    "# plt.grid(True)\n",
    "# plt.tight_layout()\n",
    "# plt.show()"
   ]
  },
  {
   "cell_type": "code",
   "execution_count": null,
   "id": "3c01abff",
   "metadata": {
    "scrolled": true
   },
   "outputs": [],
   "source": [
    "medidas_mensais = pd.DataFrame(columns=['Month_Year', 'Open', 'High', 'Low', 'Close', 'Volume', 'Market Cap'])\n",
    "\n",
    "for ano in range(2021, 2024):\n",
    "    ano_especifico = dados[dados['Start'].dt.year == ano]\n",
    "    for mes in range(1, 13):\n",
    "        mes_especifico = ano_especifico[ano_especifico['Start'].dt.month == mes]\n",
    "        data_linha = {\n",
    "            'Month_Year': f'{mes}/{ano}',\n",
    "            'Open': mes_especifico['Open'].mean(),\n",
    "            'High': mes_especifico['High'].max(),\n",
    "            'Low': mes_especifico['Low'].min(),\n",
    "            'Close': mes_especifico['Close'].mean(),\n",
    "            'Volume': mes_especifico['Volume'].mean(),\n",
    "            'Market Cap': mes_especifico['Market Cap'].mean()\n",
    "        }\n",
    "        \n",
    "        medidas_mensais = pd.concat([medidas_mensais, pd.DataFrame([data_linha])], ignore_index=True)\n",
    "\n",
    "medidas_mensais.head()"
   ]
  },
  {
   "cell_type": "code",
   "execution_count": null,
   "id": "71b4d845",
   "metadata": {},
   "outputs": [],
   "source": [
    "plt.figure(figsize=(10, 6))\n",
    "plt.plot(medidas_mensais['Month_Year'], medidas_mensais['Close'], linestyle='-')\n",
    "plt.xlabel('Month_Year')\n",
    "plt.ylabel('Close')\n",
    "plt.xticks(rotation=45)\n",
    "plt.grid(True)\n",
    "plt.tight_layout()\n",
    "plt.show()"
   ]
  },
  {
   "cell_type": "code",
   "execution_count": null,
   "id": "2630e087",
   "metadata": {},
   "outputs": [],
   "source": [
    "medidas_semestrais = pd.DataFrame(columns=['Semester_Year', 'Open', 'High', 'Low', 'Close', 'Volume', 'Market Cap'])\n",
    "\n",
    "for ano in range(2021, 2024):\n",
    "    ano_especifico = dados[dados['Start'].dt.year == ano]\n",
    "    for semestre in range(1, 3):  # Loop de 1 a 2 para representar os dois semestres\n",
    "        mes_inicial = 6 * (semestre - 1) + 1  # Primeiro mês do semestre (1º semestre: 1, 2º semestre: 7)\n",
    "        mes_final = mes_inicial + 5  # Último mês do semestre (1º semestre: 6, 2º semestre: 12)\n",
    "       \n",
    "        semestre_especifico = ano_especifico[(ano_especifico['Start'].dt.month >= mes_inicial) & (ano_especifico['Start'].dt.month <= mes_final)]\n",
    "        \n",
    "        data_linha = {\n",
    "            'Semester_Year': f'{semestre}/{ano}',\n",
    "            'Open': semestre_especifico['Open'].mean(),\n",
    "            'High': semestre_especifico['High'].max(),\n",
    "            'Low': semestre_especifico['Low'].min(),\n",
    "            'Close': semestre_especifico['Close'].mean(),\n",
    "            'Volume': semestre_especifico['Volume'].mean(),\n",
    "            'Market Cap': semestre_especifico['Market Cap'].mean()\n",
    "        }\n",
    "        \n",
    "        medidas_semestrais = pd.concat([medidas_semestrais, pd.DataFrame([data_linha])], ignore_index=True)\n",
    "\n",
    "medidas_semestrais.head(10)\n"
   ]
  },
  {
   "cell_type": "code",
   "execution_count": null,
   "id": "0f042b4c",
   "metadata": {},
   "outputs": [],
   "source": [
    "plt.figure(figsize=(10, 6))\n",
    "plt.plot(medidas_semestrais['Semester_Year'], medidas_semestrais['Close'], linestyle='-')\n",
    "plt.xlabel('Semester_Year')\n",
    "plt.ylabel('Close')\n",
    "plt.xticks(rotation=45)\n",
    "plt.grid(True)\n",
    "plt.tight_layout()\n",
    "plt.show()"
   ]
  },
  {
   "cell_type": "code",
   "execution_count": null,
   "id": "ef4959c9",
   "metadata": {},
   "outputs": [],
   "source": [
    "medidas_anuais = pd.DataFrame(columns=['Year', 'Open', 'High', 'Low', 'Close', 'Volume', 'Market Cap'])\n",
    "\n",
    "for ano in range(2021, 2024):\n",
    "    ano_especifico = dados[dados['Start'].dt.year == ano]\n",
    "  \n",
    "        \n",
    "    data_linha = {\n",
    "        'Year': f'{ano}',\n",
    "        'Open': ano_especifico['Open'].mean(),\n",
    "        'High': ano_especifico['High'].max(),\n",
    "        'Low': ano_especifico['Low'].min(),\n",
    "        'Close': ano_especifico['Close'].mean(),\n",
    "        'Volume': ano_especifico['Volume'].mean(),\n",
    "        'Market Cap': ano_especifico['Market Cap'].mean()\n",
    "    }\n",
    "        \n",
    "    medidas_anuais = pd.concat([medidas_anuais, pd.DataFrame([data_linha])], ignore_index=True)\n",
    "\n",
    "medidas_anuais.head()"
   ]
  },
  {
   "cell_type": "code",
   "execution_count": null,
   "id": "c104d388",
   "metadata": {},
   "outputs": [],
   "source": [
    "plt.figure(figsize=(10, 6))\n",
    "plt.plot(medidas_anuais['Year'], medidas_anuais['Close'], linestyle='-')\n",
    "plt.xlabel('Year')\n",
    "plt.ylabel('Close')\n",
    "plt.xticks(rotation=45)\n",
    "plt.grid(True)\n",
    "plt.tight_layout()\n",
    "plt.show()"
   ]
  },
  {
   "cell_type": "code",
   "execution_count": null,
   "id": "9be08b88",
   "metadata": {},
   "outputs": [],
   "source": [
    "# Calcular a média móvel com uma janela de 10 dias\n",
    "dados['Media_movel'] = dados['Close'].rolling(window=10).mean()\n",
    "\n",
    "# Plotar os dados originais e a média móvel\n",
    "plt.plot(dados['Start'], dados['Close'], label='Original')\n",
    "plt.plot(dados['Start'], dados['Media_movel'], label='Moving Average')\n",
    "plt.xlabel('Start')\n",
    "plt.ylabel('Close')\n",
    "plt.title('Original vs Moving Average')\n",
    "plt.legend()\n",
    "plt.show()"
   ]
  },
  {
   "cell_type": "code",
   "execution_count": null,
   "id": "b84e6319",
   "metadata": {},
   "outputs": [],
   "source": [
    "dados['Close'].min()"
   ]
  },
  {
   "cell_type": "code",
   "execution_count": null,
   "id": "7f0f76a7",
   "metadata": {},
   "outputs": [],
   "source": [
    "menor_valor = dados['Close'].idxmin()\n",
    "\n",
    "linha = dados.loc[menor_valor]\n",
    "linha"
   ]
  },
  {
   "cell_type": "code",
   "execution_count": null,
   "id": "aabe7560",
   "metadata": {},
   "outputs": [],
   "source": [
    "filtrado = dados.loc[dados['Start'] >= linha['Start']]\n",
    "\n",
    "filtrado.head()"
   ]
  },
  {
   "cell_type": "code",
   "execution_count": null,
   "id": "9c5b8d40",
   "metadata": {},
   "outputs": [],
   "source": [
    "filtrado.loc[:, 'Media_movel'] = filtrado['Close'].rolling(window=2).mean()\n",
    "\n",
    "plt.plot(filtrado['Start'], filtrado['Close'], label='Original')\n",
    "plt.plot(filtrado['Start'], filtrado['Media_movel'], label='Moving Average')\n",
    "plt.xlabel('Start')\n",
    "plt.ylabel('Close')\n",
    "plt.title('Original vs Moving Average')\n",
    "plt.legend()\n",
    "plt.show()"
   ]
  },
  {
   "cell_type": "code",
   "execution_count": null,
   "id": "e3314556",
   "metadata": {},
   "outputs": [],
   "source": [
    "dados"
   ]
  },
  {
   "cell_type": "code",
   "execution_count": null,
   "id": "bb4f42ca-1fab-4824-836c-8b79ddf81d88",
   "metadata": {},
   "outputs": [],
   "source": [
    "dados.reset_index(inplace=True)\n",
    "dados"
   ]
  },
  {
   "cell_type": "code",
   "execution_count": null,
   "id": "fca29928-a775-4a08-ad28-b4ee4988ec53",
   "metadata": {},
   "outputs": [],
   "source": []
  }
 ],
 "metadata": {
  "kernelspec": {
   "display_name": "Python 3 (ipykernel)",
   "language": "python",
   "name": "python3"
  },
  "language_info": {
   "codemirror_mode": {
    "name": "ipython",
    "version": 3
   },
   "file_extension": ".py",
   "mimetype": "text/x-python",
   "name": "python",
   "nbconvert_exporter": "python",
   "pygments_lexer": "ipython3",
   "version": "3.11.7"
  }
 },
 "nbformat": 4,
 "nbformat_minor": 5
}
